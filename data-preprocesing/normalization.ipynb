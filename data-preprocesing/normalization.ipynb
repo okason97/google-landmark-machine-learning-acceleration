{
 "cells": [
  {
   "cell_type": "code",
   "execution_count": 1,
   "metadata": {},
   "outputs": [],
   "source": [
    "import os\n",
    "from multiprocessing import Pool, Value\n",
    "import numpy as np # linear algebra\n",
    "import pandas as pd # data processing, CSV file I/O (e.g. pd.read_csv)\n",
    "from fractions import math\n",
    "\n",
    "from skimage import color, exposure, io\n",
    "from skimage.transform import resize\n",
    "\n",
    "from sklearn import preprocessing\n",
    "from sklearn.externals import joblib"
   ]
  },
  {
   "cell_type": "code",
   "execution_count": 2,
   "metadata": {},
   "outputs": [],
   "source": [
    "out_dir = \"../input/normalized-images/\"\n",
    "in_dir = \"../input/preprocessed-images/\"\n",
    "scaler_filename = \"../models/images_StandardScaler.save\"\n",
    "shape = 256"
   ]
  },
  {
   "cell_type": "code",
   "execution_count": 3,
   "metadata": {},
   "outputs": [],
   "source": [
    "def normalize_image(image, image_dir):\n",
    "    image = np.array(io.imread(in_dir+image_dir))\n",
    "        \n",
    "    # Load scaler\n",
    "    scaler = joblib.load(scaler_filename)\n",
    "\n",
    "    # standarization or normalization\n",
    "    image = image.reshape(1,-1)\n",
    "\n",
    "    image = scaler.transform(image)\n",
    "    image = image.reshape(shape,shape)\n",
    "\n",
    "    print(\"normalized image saved in: \"+out_dir+image_dir)\n",
    "    io.imsave(out_dir+image_dir,image)    "
   ]
  },
  {
   "cell_type": "code",
   "execution_count": 4,
   "metadata": {},
   "outputs": [],
   "source": [
    "if not os.path.exists(out_dir):\n",
    "    os.mkdir(out_dir)\n",
    "\n",
    "processes = 4\n",
    "\n",
    "dir_list = np.array(os.listdir(in_dir))\n",
    "\n",
    "pool = Pool(processes=processes)  # Num of CPUs\n",
    "\n",
    "pool.map(normalize_image, dir_list, chunksize = 8)\n",
    "\n",
    "pool.close()\n",
    "pool.terminate()"
   ]
  }
 ],
 "metadata": {
  "kernelspec": {
   "display_name": "Python 3",
   "language": "python",
   "name": "python3"
  },
  "language_info": {
   "codemirror_mode": {
    "name": "ipython",
    "version": 3
   },
   "file_extension": ".py",
   "mimetype": "text/x-python",
   "name": "python",
   "nbconvert_exporter": "python",
   "pygments_lexer": "ipython3",
   "version": "3.6.5"
  }
 },
 "nbformat": 4,
 "nbformat_minor": 2
}
