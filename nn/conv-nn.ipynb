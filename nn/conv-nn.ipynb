{
 "cells": [
  {
   "cell_type": "code",
   "execution_count": null,
   "metadata": {},
   "outputs": [],
   "source": [
    "import numpy as np # linear algebra\n",
    "import pandas as pd # data processing, CSV file I/O (e.g. pd.read_csv)\n",
    "import tensorflow as tf\n",
    "from skimage.model_selection import train_test_split"
   ]
  },
  {
   "cell_type": "code",
   "execution_count": null,
   "metadata": {},
   "outputs": [],
   "source": [
    "in_dir = \"../input/normalized-images/\"\n",
    "data = pd.read_csv('../input/train.csv')\n",
    "available_list = np.array([os.path.splitext(filename)[0] for filename in os.listdir()])\n",
    "data = data[data[\"id\"].isin(available_list)]\n",
    "data = data.groupby('landmark_id', group_keys=False).apply(lambda df: df.sample(7000, random_state=123))\n",
    "X = data[\"id\"].values\n",
    "y = data[\"landmark_id\"].values\n",
    "\n",
    "# Build X and y\n",
    "X_train, X_test, y_train, y_test = train_test_split(\n",
    "    X, y, test_size=0.15, random_state=42)"
   ]
  }
 ],
 "metadata": {
  "kernelspec": {
   "display_name": "Python 3",
   "language": "python",
   "name": "python3"
  },
  "language_info": {
   "codemirror_mode": {
    "name": "ipython",
    "version": 3
   },
   "file_extension": ".py",
   "mimetype": "text/x-python",
   "name": "python",
   "nbconvert_exporter": "python",
   "pygments_lexer": "ipython3",
   "version": "3.6.5"
  }
 },
 "nbformat": 4,
 "nbformat_minor": 2
}
